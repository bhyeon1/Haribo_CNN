{
  "nbformat": 4,
  "nbformat_minor": 0,
  "metadata": {
    "colab": {
      "provenance": [],
      "authorship_tag": "ABX9TyPV7hbb9a2VlBfIG91wY/ZK",
      "include_colab_link": true
    },
    "kernelspec": {
      "name": "python3",
      "display_name": "Python 3"
    },
    "language_info": {
      "name": "python"
    }
  },
  "cells": [
    {
      "cell_type": "markdown",
      "metadata": {
        "id": "view-in-github",
        "colab_type": "text"
      },
      "source": [
        "<a href=\"https://colab.research.google.com/github/bhyeon1/Haribo_CNN/blob/main/Haribo_class.ipynb\" target=\"_parent\"><img src=\"https://colab.research.google.com/assets/colab-badge.svg\" alt=\"Open In Colab\"/></a>"
      ]
    },
    {
      "cell_type": "code",
      "source": [
        "import tensorflow as tf\n",
        "from tensorflow.keras import layers, models\n",
        "from tensorflow.keras.preprocessing.image import ImageDataGenerator\n",
        "from tensorflow.keras.applications import MobileNetV2\n",
        "from tensorflow.keras.callbacks import EarlyStopping, ReduceLROnPlateau\n",
        "import matplotlib.pyplot as plt"
      ],
      "metadata": {
        "id": "YFoZuaFFpu8h"
      },
      "execution_count": 4,
      "outputs": []
    },
    {
      "cell_type": "code",
      "execution_count": 5,
      "metadata": {
        "id": "HSIlrKGUkyc-",
        "colab": {
          "base_uri": "https://localhost:8080/"
        },
        "outputId": "1915680e-0174-42cb-b670-a75aa4401c75"
      },
      "outputs": [
        {
          "output_type": "stream",
          "name": "stdout",
          "text": [
            "Mounted at /content/drive\n"
          ]
        }
      ],
      "source": [
        "from google.colab import drive\n",
        "drive.mount('/content/drive')"
      ]
    },
    {
      "cell_type": "code",
      "source": [
        "data_path = '/content/drive/MyDrive/Colab Notebooks/haribo_data'"
      ],
      "metadata": {
        "id": "Zswnbfm8ozKM"
      },
      "execution_count": 6,
      "outputs": []
    },
    {
      "cell_type": "code",
      "source": [
        "data_path"
      ],
      "metadata": {
        "id": "wanCqRvYo9Oq",
        "colab": {
          "base_uri": "https://localhost:8080/",
          "height": 35
        },
        "outputId": "aef10899-358e-4920-ecc0-ccc7ec0c6457"
      },
      "execution_count": 7,
      "outputs": [
        {
          "output_type": "execute_result",
          "data": {
            "text/plain": [
              "'/content/drive/MyDrive/Colab Notebooks/haribo_data'"
            ],
            "application/vnd.google.colaboratory.intrinsic+json": {
              "type": "string"
            }
          },
          "metadata": {},
          "execution_count": 7
        }
      ]
    },
    {
      "cell_type": "code",
      "source": [
        "# 경로 설정\n",
        "data_dir = '/content/drive/MyDrive/Colab Notebooks/haribo_data'\n",
        "\n",
        "# 전처리 및 증강\n",
        "img_size = (128, 128)\n",
        "batch_size = 32\n",
        "\n",
        "datagen = ImageDataGenerator(\n",
        "    rescale=1./255,\n",
        "    rotation_range=20,\n",
        "    width_shift_range=0.1,\n",
        "    height_shift_range=0.1,\n",
        "    brightness_range=(0.8, 1.2),\n",
        "    zoom_range=0.2,\n",
        "    horizontal_flip=True,\n",
        "    validation_split=0.2\n",
        ")\n",
        "\n",
        "train_gen = datagen.flow_from_directory(\n",
        "    data_dir,\n",
        "    target_size=img_size,\n",
        "    batch_size=batch_size,\n",
        "    class_mode='categorical',\n",
        "    subset='training'\n",
        ")\n",
        "\n",
        "val_gen = datagen.flow_from_directory(\n",
        "    data_dir,\n",
        "    target_size=img_size,\n",
        "    batch_size=batch_size,\n",
        "    class_mode='categorical',\n",
        "    subset='validation'\n",
        ")"
      ],
      "metadata": {
        "id": "jqioAn6MpBuy",
        "colab": {
          "base_uri": "https://localhost:8080/"
        },
        "outputId": "e9d8521f-d75c-42c8-b0b7-bc3a3396b37f"
      },
      "execution_count": 8,
      "outputs": [
        {
          "output_type": "stream",
          "name": "stdout",
          "text": [
            "Found 545 images belonging to 5 classes.\n",
            "Found 135 images belonging to 5 classes.\n"
          ]
        }
      ]
    },
    {
      "cell_type": "code",
      "source": [
        "# 전이학습 모델 로드 및 일부 층만 fine-tune\n",
        "base_model = MobileNetV2(input_shape=img_size + (3,),\n",
        "                         include_top=False,\n",
        "                         weights='imagenet')\n",
        "\n",
        "base_model.trainable = True  # 전체 레이어 훈련 가능\n",
        "\n",
        "# 앞부분은 동결, 뒷부분만 훈련\n",
        "for layer in base_model.layers[:-30]:\n",
        "    layer.trainable = False"
      ],
      "metadata": {
        "id": "sodvF_hSRwv6",
        "colab": {
          "base_uri": "https://localhost:8080/"
        },
        "outputId": "cfa1d032-1bee-4935-904f-36c47ade7281"
      },
      "execution_count": 9,
      "outputs": [
        {
          "output_type": "stream",
          "name": "stdout",
          "text": [
            "Downloading data from https://storage.googleapis.com/tensorflow/keras-applications/mobilenet_v2/mobilenet_v2_weights_tf_dim_ordering_tf_kernels_1.0_128_no_top.h5\n",
            "\u001b[1m9406464/9406464\u001b[0m \u001b[32m━━━━━━━━━━━━━━━━━━━━\u001b[0m\u001b[37m\u001b[0m \u001b[1m0s\u001b[0m 0us/step\n"
          ]
        }
      ]
    },
    {
      "cell_type": "code",
      "source": [
        "# 전체 모델 구성\n",
        "model = models.Sequential([\n",
        "    base_model,\n",
        "    layers.GlobalAveragePooling2D(),\n",
        "    layers.Dense(256),\n",
        "    layers.BatchNormalization(),\n",
        "    layers.Activation('relu'),\n",
        "    layers.Dropout(0.4),\n",
        "    layers.Dense(train_gen.num_classes, activation='softmax')\n",
        "])"
      ],
      "metadata": {
        "id": "2HUMGBnapYd6"
      },
      "execution_count": 10,
      "outputs": []
    },
    {
      "cell_type": "code",
      "source": [
        "# 컴파일\n",
        "model.compile(\n",
        "    optimizer=tf.keras.optimizers.Adam(learning_rate=1e-4),  # 낮은 lr 사용\n",
        "    loss='categorical_crossentropy',\n",
        "    metrics=['accuracy']\n",
        ")\n",
        "\n",
        "# 콜백\n",
        "early_stop = EarlyStopping(monitor='val_loss', patience=5, restore_best_weights=True)\n",
        "lr_scheduler = ReduceLROnPlateau(monitor='val_loss', factor=0.5, patience=3)"
      ],
      "metadata": {
        "id": "Vt7GDJXHpwrP"
      },
      "execution_count": 11,
      "outputs": []
    },
    {
      "cell_type": "code",
      "source": [
        "# 학습\n",
        "history = model.fit(\n",
        "    train_gen,\n",
        "    validation_data=val_gen,\n",
        "    epochs=30,\n",
        "    callbacks=[early_stop, lr_scheduler],\n",
        "    verbose=2\n",
        ")"
      ],
      "metadata": {
        "id": "a2TT3dh0p0xZ",
        "colab": {
          "base_uri": "https://localhost:8080/"
        },
        "outputId": "5001a51c-2ab0-4e68-9559-e09c396ebd5e"
      },
      "execution_count": null,
      "outputs": [
        {
          "output_type": "stream",
          "name": "stderr",
          "text": [
            "/usr/local/lib/python3.11/dist-packages/keras/src/trainers/data_adapters/py_dataset_adapter.py:121: UserWarning: Your `PyDataset` class should call `super().__init__(**kwargs)` in its constructor. `**kwargs` can include `workers`, `use_multiprocessing`, `max_queue_size`. Do not pass these arguments to `fit()`, as they will be ignored.\n",
            "  self._warn_if_super_not_called()\n"
          ]
        },
        {
          "output_type": "stream",
          "name": "stdout",
          "text": [
            "Epoch 1/30\n",
            "18/18 - 200s - 11s/step - accuracy: 0.6569 - loss: 0.9058 - val_accuracy: 0.7185 - val_loss: 0.8457 - learning_rate: 1.0000e-04\n",
            "Epoch 2/30\n",
            "18/18 - 16s - 863ms/step - accuracy: 0.9835 - loss: 0.1199 - val_accuracy: 0.8519 - val_loss: 0.4680 - learning_rate: 1.0000e-04\n",
            "Epoch 3/30\n",
            "18/18 - 16s - 874ms/step - accuracy: 0.9835 - loss: 0.0822 - val_accuracy: 0.8963 - val_loss: 0.3474 - learning_rate: 1.0000e-04\n",
            "Epoch 4/30\n",
            "18/18 - 16s - 881ms/step - accuracy: 0.9927 - loss: 0.0473 - val_accuracy: 0.8963 - val_loss: 0.2903 - learning_rate: 1.0000e-04\n",
            "Epoch 5/30\n",
            "18/18 - 16s - 893ms/step - accuracy: 0.9927 - loss: 0.0379 - val_accuracy: 0.9407 - val_loss: 0.2118 - learning_rate: 1.0000e-04\n",
            "Epoch 6/30\n",
            "18/18 - 17s - 971ms/step - accuracy: 0.9945 - loss: 0.0337 - val_accuracy: 0.9481 - val_loss: 0.1953 - learning_rate: 1.0000e-04\n",
            "Epoch 7/30\n",
            "18/18 - 16s - 864ms/step - accuracy: 0.9982 - loss: 0.0228 - val_accuracy: 0.9704 - val_loss: 0.1356 - learning_rate: 1.0000e-04\n",
            "Epoch 8/30\n",
            "18/18 - 16s - 873ms/step - accuracy: 0.9963 - loss: 0.0200 - val_accuracy: 0.9852 - val_loss: 0.1428 - learning_rate: 1.0000e-04\n",
            "Epoch 9/30\n"
          ]
        }
      ]
    },
    {
      "cell_type": "code",
      "source": [
        "# 평가\n",
        "val_loss, val_acc = model.evaluate(val_gen, verbose=0)\n",
        "print(f\"✅ Fine-tuned Validation Accuracy: {val_acc:.4f}\")"
      ],
      "metadata": {
        "id": "YabRPRDHR_NJ"
      },
      "execution_count": null,
      "outputs": []
    },
    {
      "cell_type": "code",
      "source": [
        "# 시각화\n",
        "plt.figure(figsize=(12, 5))\n",
        "plt.subplot(1, 2, 1)\n",
        "plt.plot(history.history['accuracy'], label='Train Acc')\n",
        "plt.plot(history.history['val_accuracy'], label='Val Acc')\n",
        "plt.title('Accuracy')\n",
        "plt.legend()\n",
        "\n",
        "plt.subplot(1, 2, 2)\n",
        "plt.plot(history.history['loss'], label='Train Loss')\n",
        "plt.plot(history.history['val_loss'], label='Val Loss')\n",
        "plt.title('Loss')\n",
        "plt.legend()\n",
        "plt.tight_layout()\n",
        "plt.show()"
      ],
      "metadata": {
        "id": "tWC9JPOPp1o_"
      },
      "execution_count": null,
      "outputs": []
    },
    {
      "cell_type": "code",
      "source": [
        "print(train_generator.class_indices)"
      ],
      "metadata": {
        "id": "gq-ynDAh88Ub"
      },
      "execution_count": null,
      "outputs": []
    },
    {
      "cell_type": "code",
      "source": [
        "model.save(\"haribo_model.h5\")"
      ],
      "metadata": {
        "id": "0WxSKQVuracA"
      },
      "execution_count": null,
      "outputs": []
    },
    {
      "cell_type": "code",
      "source": [
        "from google.colab import drive\n",
        "drive.mount(\"/content/drive\")\n",
        "\n",
        "model.save(\"/content/drive/MyDrive/haribo_model.h5\")"
      ],
      "metadata": {
        "id": "ldlkZBPTylL-"
      },
      "execution_count": null,
      "outputs": []
    },
    {
      "cell_type": "code",
      "source": [],
      "metadata": {
        "id": "tnv6AZTbziOY"
      },
      "execution_count": null,
      "outputs": []
    }
  ]
}